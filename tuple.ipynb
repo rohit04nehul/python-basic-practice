{
 "cells": [
  {
   "cell_type": "code",
   "execution_count": 1,
   "id": "715358b8-52a7-41f8-b9bc-ce2ffd49fd23",
   "metadata": {},
   "outputs": [
    {
     "name": "stdout",
     "output_type": "stream",
     "text": [
      "(1, 2, 3, 4)\n"
     ]
    }
   ],
   "source": [
    "t=(1,2,3,4)\n",
    "print(t)"
   ]
  },
  {
   "cell_type": "code",
   "execution_count": 2,
   "id": "0100e164-f4d0-4740-82cf-371a483d5658",
   "metadata": {},
   "outputs": [
    {
     "data": {
      "text/plain": [
       "tuple"
      ]
     },
     "execution_count": 2,
     "metadata": {},
     "output_type": "execute_result"
    }
   ],
   "source": [
    "type(t)"
   ]
  },
  {
   "cell_type": "code",
   "execution_count": 3,
   "id": "ae113ba8-38bc-44d6-a130-076db1300367",
   "metadata": {},
   "outputs": [
    {
     "name": "stdout",
     "output_type": "stream",
     "text": [
      "(1, 2, 'rohit', 7.3)\n"
     ]
    }
   ],
   "source": [
    "t1 = ( 1,2,\"rohit\",7.3)\n",
    "print(t1)"
   ]
  },
  {
   "cell_type": "code",
   "execution_count": 4,
   "id": "8f7377ef-c1a8-4e37-bd30-c684440bd563",
   "metadata": {},
   "outputs": [
    {
     "data": {
      "text/plain": [
       "4"
      ]
     },
     "execution_count": 4,
     "metadata": {},
     "output_type": "execute_result"
    }
   ],
   "source": [
    "len(t)"
   ]
  },
  {
   "cell_type": "code",
   "execution_count": 6,
   "id": "47a79f6f-8dcf-4d47-934f-cef283a6aec2",
   "metadata": {},
   "outputs": [
    {
     "name": "stdout",
     "output_type": "stream",
     "text": [
      "(1, 2, 3, (4, 5))\n"
     ]
    },
    {
     "data": {
      "text/plain": [
       "4"
      ]
     },
     "execution_count": 6,
     "metadata": {},
     "output_type": "execute_result"
    }
   ],
   "source": [
    "nested_tup = (1,2,3,(4,5))\n",
    "print(nested_tup)\n",
    "len(nested_tup)"
   ]
  },
  {
   "cell_type": "code",
   "execution_count": 11,
   "id": "fed60059-85a2-41d3-988c-06feb9f3a21b",
   "metadata": {},
   "outputs": [
    {
     "name": "stdout",
     "output_type": "stream",
     "text": [
      "(1, 2, 3, [4, 5])\n"
     ]
    },
    {
     "data": {
      "text/plain": [
       "list"
      ]
     },
     "execution_count": 11,
     "metadata": {},
     "output_type": "execute_result"
    }
   ],
   "source": [
    "nes_tup = (1,2,3,[4,5])\n",
    "print(nes_tup)\n",
    "type(nes_tup[3])"
   ]
  },
  {
   "cell_type": "code",
   "execution_count": 12,
   "id": "24663e32-245e-4b3f-990c-e38930952805",
   "metadata": {},
   "outputs": [
    {
     "name": "stdout",
     "output_type": "stream",
     "text": [
      "(1, 2, 3, 4, 5, 6)\n",
      "<class 'tuple'>\n"
     ]
    }
   ],
   "source": [
    "t1 = 1,2,3,4,5,6\n",
    "print(t1)\n",
    "print(type(t1))"
   ]
  },
  {
   "cell_type": "code",
   "execution_count": 14,
   "id": "b2f04722-9a70-424f-b034-bcfca06c352f",
   "metadata": {},
   "outputs": [
    {
     "name": "stdout",
     "output_type": "stream",
     "text": [
      "(3, 4)\n"
     ]
    }
   ],
   "source": [
    "print(t[2:]) "
   ]
  },
  {
   "cell_type": "code",
   "execution_count": 17,
   "id": "60420f5d-ee23-43f0-9721-a7d6cc09a394",
   "metadata": {},
   "outputs": [
    {
     "data": {
      "text/plain": [
       "'WORLD'"
      ]
     },
     "execution_count": 17,
     "metadata": {},
     "output_type": "execute_result"
    }
   ],
   "source": [
    "str1 = \"HELLO WORLD\"\n",
    "str1[6:]"
   ]
  },
  {
   "cell_type": "code",
   "execution_count": 19,
   "id": "24e6fa0b-cb32-47c8-9d59-809d7098fbb7",
   "metadata": {},
   "outputs": [
    {
     "name": "stdout",
     "output_type": "stream",
     "text": [
      "('Welcome', 'to', 'my course', 'today', 'we', 'are', 'learning', 'python')\n"
     ]
    }
   ],
   "source": [
    "# concatenation\n",
    "\n",
    "tup1 = ( \"Welcome\" , \"to\" , \"my course\")\n",
    "tup2 = (\"today\" , \"we\" , \"are\" , \"learning\" , \"python\")\n",
    "\n",
    "tup3 = tup1 + tup2\n",
    "\n",
    "print(tup3)\n",
    "        "
   ]
  },
  {
   "cell_type": "code",
   "execution_count": 22,
   "id": "2af7d234-e358-47a6-9407-17787e37c9d4",
   "metadata": {},
   "outputs": [
    {
     "data": {
      "text/plain": [
       "20"
      ]
     },
     "execution_count": 22,
     "metadata": {},
     "output_type": "execute_result"
    }
   ],
   "source": [
    "tup1 = [2,4,6,8]\n",
    "sum(tup1)\n"
   ]
  },
  {
   "cell_type": "code",
   "execution_count": 23,
   "id": "c1f315fc-c894-44d0-965c-b1f8b83765d6",
   "metadata": {},
   "outputs": [
    {
     "data": {
      "text/plain": [
       "8"
      ]
     },
     "execution_count": 23,
     "metadata": {},
     "output_type": "execute_result"
    }
   ],
   "source": [
    "max(tup1)"
   ]
  },
  {
   "cell_type": "code",
   "execution_count": 24,
   "id": "6d2f5709-fbbb-4f25-baef-5439f83ddd28",
   "metadata": {},
   "outputs": [
    {
     "data": {
      "text/plain": [
       "2"
      ]
     },
     "execution_count": 24,
     "metadata": {},
     "output_type": "execute_result"
    }
   ],
   "source": [
    "min(tup1)"
   ]
  },
  {
   "cell_type": "code",
   "execution_count": 25,
   "id": "2a109bc0-ddaa-4dc9-aed9-c1dbfc1f75a6",
   "metadata": {},
   "outputs": [],
   "source": [
    "# Functions like sum(), max(), and min() only work on numerical data (int, float)."
   ]
  },
  {
   "cell_type": "code",
   "execution_count": 26,
   "id": "c392488a-d278-4b47-bf60-666afaf32381",
   "metadata": {},
   "outputs": [],
   "source": [
    "# tuples are immutable"
   ]
  },
  {
   "cell_type": "code",
   "execution_count": 28,
   "id": "fcc04f62-bae0-4280-9f83-f0178353b5b8",
   "metadata": {},
   "outputs": [
    {
     "name": "stdout",
     "output_type": "stream",
     "text": [
      "[1, 2, 5, 8, 9]\n"
     ]
    }
   ],
   "source": [
    "t = (2,5,8,1,9)\n",
    "new_var = sorted(t)\n",
    "print(new_var)"
   ]
  },
  {
   "cell_type": "code",
   "execution_count": null,
   "id": "4325d2ab-08be-4255-a443-903e0e1fa1b4",
   "metadata": {},
   "outputs": [],
   "source": []
  }
 ],
 "metadata": {
  "kernelspec": {
   "display_name": "Python 3 (ipykernel)",
   "language": "python",
   "name": "python3"
  },
  "language_info": {
   "codemirror_mode": {
    "name": "ipython",
    "version": 3
   },
   "file_extension": ".py",
   "mimetype": "text/x-python",
   "name": "python",
   "nbconvert_exporter": "python",
   "pygments_lexer": "ipython3",
   "version": "3.12.4"
  }
 },
 "nbformat": 4,
 "nbformat_minor": 5
}
