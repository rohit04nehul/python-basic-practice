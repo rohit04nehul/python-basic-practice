{
 "cells": [
  {
   "cell_type": "code",
   "execution_count": 1,
   "id": "d6d4fbe1-e8be-4de8-89fa-bf3aa082cac1",
   "metadata": {},
   "outputs": [
    {
     "name": "stdout",
     "output_type": "stream",
     "text": [
      "Hello\n"
     ]
    }
   ],
   "source": [
    "print('Hello')"
   ]
  },
  {
   "cell_type": "code",
   "execution_count": 2,
   "id": "cdd5a459-4153-49b7-8cc3-ce71f8dd305b",
   "metadata": {},
   "outputs": [
    {
     "name": "stdout",
     "output_type": "stream",
     "text": [
      "10\n"
     ]
    }
   ],
   "source": [
    "a=1\n",
    "b=9\n",
    "print(a+b)"
   ]
  },
  {
   "cell_type": "code",
   "execution_count": 3,
   "id": "c07b8b1a-a2ca-4e9e-b4bd-f3b2a27f9abb",
   "metadata": {},
   "outputs": [
    {
     "name": "stdout",
     "output_type": "stream",
     "text": [
      "10\n"
     ]
    }
   ],
   "source": [
    "a = 10\n",
    "print(a)"
   ]
  },
  {
   "cell_type": "code",
   "execution_count": 4,
   "id": "8521f8ab-2466-403b-a4ff-5a32399da268",
   "metadata": {},
   "outputs": [
    {
     "name": "stdout",
     "output_type": "stream",
     "text": [
      "Welcome\n"
     ]
    }
   ],
   "source": [
    "a = \"Welcome\"\n",
    "print(a)"
   ]
  },
  {
   "cell_type": "code",
   "execution_count": 5,
   "id": "009ee1cd-052a-413b-94f9-4c4e47a7174a",
   "metadata": {},
   "outputs": [],
   "source": [
    "my_age = 25\n"
   ]
  },
  {
   "cell_type": "code",
   "execution_count": 6,
   "id": "87941f5e-d5b5-46c1-86d3-2bd06370f093",
   "metadata": {},
   "outputs": [
    {
     "name": "stdout",
     "output_type": "stream",
     "text": [
      "25\n"
     ]
    }
   ],
   "source": [
    "print(my_age)"
   ]
  },
  {
   "cell_type": "code",
   "execution_count": 7,
   "id": "b9c7d242-d978-4215-b45a-2852062066c8",
   "metadata": {},
   "outputs": [
    {
     "data": {
      "text/plain": [
       "int"
      ]
     },
     "execution_count": 7,
     "metadata": {},
     "output_type": "execute_result"
    }
   ],
   "source": [
    "type(my_age)"
   ]
  },
  {
   "cell_type": "code",
   "execution_count": 8,
   "id": "180465ca-e59d-4b9d-9610-81617ae50efa",
   "metadata": {},
   "outputs": [
    {
     "name": "stdout",
     "output_type": "stream",
     "text": [
      "1.5\n"
     ]
    },
    {
     "data": {
      "text/plain": [
       "float"
      ]
     },
     "execution_count": 8,
     "metadata": {},
     "output_type": "execute_result"
    }
   ],
   "source": [
    "b = 1.5\n",
    "print(b)\n",
    "type(b)"
   ]
  },
  {
   "cell_type": "code",
   "execution_count": 9,
   "id": "a0ebddfe-9ce5-453e-95b8-d8b56ba0423e",
   "metadata": {},
   "outputs": [
    {
     "data": {
      "text/plain": [
       "89.5"
      ]
     },
     "execution_count": 9,
     "metadata": {},
     "output_type": "execute_result"
    }
   ],
   "source": [
    "score = 89.5\n",
    "score\n"
   ]
  },
  {
   "cell_type": "code",
   "execution_count": 10,
   "id": "ea8035d1-1f95-44f6-b16d-04fe8bdf0235",
   "metadata": {},
   "outputs": [],
   "source": [
    "var = \"Hello welcome\""
   ]
  },
  {
   "cell_type": "code",
   "execution_count": 11,
   "id": "49bc95d6-d18b-474e-8e47-aa42d394fb40",
   "metadata": {},
   "outputs": [
    {
     "name": "stdout",
     "output_type": "stream",
     "text": [
      "<class 'str'>\n"
     ]
    }
   ],
   "source": [
    "print(type(var))"
   ]
  },
  {
   "cell_type": "code",
   "execution_count": 12,
   "id": "3473c1fd-188a-423d-8ebc-9bf2ea953410",
   "metadata": {},
   "outputs": [
    {
     "name": "stdout",
     "output_type": "stream",
     "text": [
      "<class 'str'>\n"
     ]
    }
   ],
   "source": [
    "a = '10.5'\n",
    "print(type(a))"
   ]
  },
  {
   "cell_type": "code",
   "execution_count": 13,
   "id": "1a07992d-dba1-42a6-961d-ce071c84487e",
   "metadata": {},
   "outputs": [
    {
     "name": "stdout",
     "output_type": "stream",
     "text": [
      "<class 'str'>\n"
     ]
    }
   ],
   "source": [
    "a = 'True'\n",
    "print(type(a))"
   ]
  },
  {
   "cell_type": "code",
   "execution_count": 14,
   "id": "e2f1c7bd-d9a0-433e-b378-606426d07272",
   "metadata": {},
   "outputs": [
    {
     "name": "stdout",
     "output_type": "stream",
     "text": [
      "<class 'bool'>\n"
     ]
    }
   ],
   "source": [
    "a = True\n",
    "print(type(a))"
   ]
  },
  {
   "cell_type": "code",
   "execution_count": 16,
   "id": "345c9608-5242-481c-ba73-5a54bc35a2c6",
   "metadata": {},
   "outputs": [
    {
     "ename": "SyntaxError",
     "evalue": "invalid decimal literal (1627179103.py, line 1)",
     "output_type": "error",
     "traceback": [
      "\u001b[1;36m  Cell \u001b[1;32mIn[16], line 1\u001b[1;36m\u001b[0m\n\u001b[1;33m    5a = 10  # never start with number\u001b[0m\n\u001b[1;37m    ^\u001b[0m\n\u001b[1;31mSyntaxError\u001b[0m\u001b[1;31m:\u001b[0m invalid decimal literal\n"
     ]
    }
   ],
   "source": [
    "5a = 10  # never start with number"
   ]
  },
  {
   "cell_type": "code",
   "execution_count": 17,
   "id": "31176938-9670-40fe-8086-52c944d865ec",
   "metadata": {},
   "outputs": [
    {
     "name": "stdout",
     "output_type": "stream",
     "text": [
      "10\n"
     ]
    }
   ],
   "source": [
    "a5 = 10 # this will work\n",
    "print(a5)"
   ]
  },
  {
   "cell_type": "code",
   "execution_count": 19,
   "id": "88df2e5f-d2fe-43b4-9f53-039a92d64a68",
   "metadata": {},
   "outputs": [
    {
     "name": "stdout",
     "output_type": "stream",
     "text": [
      "10\n",
      "20\n"
     ]
    }
   ],
   "source": [
    "# variable name are not case sensitive\n",
    "\n",
    "a = 10\n",
    "A = 20\n",
    "\n",
    "print(a)\n",
    "print(A)"
   ]
  },
  {
   "cell_type": "code",
   "execution_count": 20,
   "id": "645d5fc6-7ee1-44fc-aa68-9eb03ed3305d",
   "metadata": {},
   "outputs": [
    {
     "name": "stdout",
     "output_type": "stream",
     "text": [
      "2\n",
      "4\n"
     ]
    }
   ],
   "source": [
    "name = 2\n",
    "Name = 4\n",
    "\n",
    "print(name)\n",
    "print(Name)"
   ]
  },
  {
   "cell_type": "code",
   "execution_count": 21,
   "id": "4cee80d5-9142-4fb0-b431-92c3c379da91",
   "metadata": {},
   "outputs": [
    {
     "name": "stdout",
     "output_type": "stream",
     "text": [
      "hello\n"
     ]
    }
   ],
   "source": [
    "string1 = 'hello'\n",
    "print(string1)"
   ]
  },
  {
   "cell_type": "code",
   "execution_count": 22,
   "id": "348c67bf-d5b5-4021-a3a8-1c327c735364",
   "metadata": {},
   "outputs": [
    {
     "data": {
      "text/plain": [
       "'hello'"
      ]
     },
     "execution_count": 22,
     "metadata": {},
     "output_type": "execute_result"
    }
   ],
   "source": [
    "string1"
   ]
  },
  {
   "cell_type": "code",
   "execution_count": 23,
   "id": "4a4a63a0-bbb8-446e-becd-6ff7df64db0d",
   "metadata": {},
   "outputs": [
    {
     "name": "stdout",
     "output_type": "stream",
     "text": [
      "hello 123 world\n"
     ]
    }
   ],
   "source": [
    "string2 = \"hello 123 world\"\n",
    "print(string2)"
   ]
  },
  {
   "cell_type": "code",
   "execution_count": 24,
   "id": "380d0c51-716e-4264-a2c8-8751dd68d46f",
   "metadata": {},
   "outputs": [
    {
     "name": "stdout",
     "output_type": "stream",
     "text": [
      "10\n"
     ]
    }
   ],
   "source": [
    "a = 4\n",
    "b = 6\n",
    "c = a + b\n",
    "print(c)"
   ]
  },
  {
   "cell_type": "code",
   "execution_count": 32,
   "id": "c73c00ff-0605-4358-bf11-64dd8ed96ad5",
   "metadata": {},
   "outputs": [],
   "source": [
    "def sum_function(a,b):\n",
    "    c = a + b\n",
    "    return c"
   ]
  },
  {
   "cell_type": "code",
   "execution_count": 37,
   "id": "91a2b54a-3886-428c-b35d-52b3a9f19d89",
   "metadata": {},
   "outputs": [
    {
     "data": {
      "text/plain": [
       "7"
      ]
     },
     "execution_count": 37,
     "metadata": {},
     "output_type": "execute_result"
    }
   ],
   "source": [
    "sum_function(5,2)"
   ]
  },
  {
   "cell_type": "code",
   "execution_count": null,
   "id": "8cedd353-e5d5-45e8-9ee3-4ef8259c0339",
   "metadata": {},
   "outputs": [],
   "source": [
    "# keywords \n",
    "\n",
    "\n",
    "continue , break , print , True , False , len , def , in , out , import , None , else , if , while , elif"
   ]
  },
  {
   "cell_type": "code",
   "execution_count": 38,
   "id": "c20a0c50-83f3-489f-bcdd-f557fe1a37c1",
   "metadata": {},
   "outputs": [],
   "source": [
    "first_name = \"Rohit\"\n",
    "_age = 22\n",
    "marks123 = 88"
   ]
  },
  {
   "cell_type": "code",
   "execution_count": 39,
   "id": "cb36c953-9bf8-4317-a5b3-4bbc5d7b5058",
   "metadata": {},
   "outputs": [
    {
     "name": "stdout",
     "output_type": "stream",
     "text": [
      "Rohit\n",
      "22\n",
      "88\n"
     ]
    }
   ],
   "source": [
    "print(first_name)\n",
    "print(_age)\n",
    "print(marks123)"
   ]
  },
  {
   "cell_type": "code",
   "execution_count": 40,
   "id": "b5bb7816-1039-4584-bea9-ff005d954436",
   "metadata": {},
   "outputs": [
    {
     "ename": "SyntaxError",
     "evalue": "invalid decimal literal (2882713715.py, line 1)",
     "output_type": "error",
     "traceback": [
      "\u001b[1;36m  Cell \u001b[1;32mIn[40], line 1\u001b[1;36m\u001b[0m\n\u001b[1;33m    1name = \"Rohit\"      # starts with a digit ❌\u001b[0m\n\u001b[1;37m    ^\u001b[0m\n\u001b[1;31mSyntaxError\u001b[0m\u001b[1;31m:\u001b[0m invalid decimal literal\n"
     ]
    }
   ],
   "source": [
    "1name = \"Rohit\"      # starts with a digit ❌\n",
    "class = \"AI\"         # keyword ❌\n",
    "first-name = \"Rohit\" # hyphen not allowed ❌\n"
   ]
  },
  {
   "cell_type": "code",
   "execution_count": 41,
   "id": "25fa286a-cda8-40e5-a1a9-bf5c78b80d23",
   "metadata": {},
   "outputs": [
    {
     "name": "stdout",
     "output_type": "stream",
     "text": [
      "Rohit\n",
      "23\n",
      "5.9\n",
      "True\n"
     ]
    }
   ],
   "source": [
    "# Declare multiple types of variables\n",
    "name = \"Rohit\"      # string\n",
    "age = 23            # integer\n",
    "height = 5.9        # float\n",
    "is_student = True   # boolean\n",
    "\n",
    "print(name)\n",
    "print(age)\n",
    "print(height)\n",
    "print(is_student)\n"
   ]
  },
  {
   "cell_type": "code",
   "execution_count": 43,
   "id": "fd713c76-fd9e-4244-abb3-b123e15fdbc0",
   "metadata": {},
   "outputs": [
    {
     "name": "stdout",
     "output_type": "stream",
     "text": [
      "['False', 'None', 'True', 'and', 'as', 'assert', 'async', 'await', 'break', 'class', 'continue', 'def', 'del', 'elif', 'else', 'except', 'finally', 'for', 'from', 'global', 'if', 'import', 'in', 'is', 'lambda', 'nonlocal', 'not', 'or', 'pass', 'raise', 'return', 'try', 'while', 'with', 'yield']\n"
     ]
    }
   ],
   "source": [
    "# dispalys all keywords\n",
    "import keyword\n",
    "print(keyword.kwlist)"
   ]
  },
  {
   "cell_type": "code",
   "execution_count": 46,
   "id": "b939916f-cae6-4a8d-8a5e-c5e7dc45a313",
   "metadata": {},
   "outputs": [],
   "source": [
    "del type"
   ]
  },
  {
   "cell_type": "code",
   "execution_count": 47,
   "id": "a93b0ca8-5634-4cbf-8de5-c40446992948",
   "metadata": {},
   "outputs": [
    {
     "name": "stdout",
     "output_type": "stream",
     "text": [
      "<class 'int'>\n"
     ]
    }
   ],
   "source": [
    "a = 10\n",
    "print(type(a))"
   ]
  },
  {
   "cell_type": "code",
   "execution_count": null,
   "id": "5fa4417c-ed58-4b60-b9a4-9127d598efad",
   "metadata": {},
   "outputs": [],
   "source": []
  }
 ],
 "metadata": {
  "kernelspec": {
   "display_name": "Python 3 (ipykernel)",
   "language": "python",
   "name": "python3"
  },
  "language_info": {
   "codemirror_mode": {
    "name": "ipython",
    "version": 3
   },
   "file_extension": ".py",
   "mimetype": "text/x-python",
   "name": "python",
   "nbconvert_exporter": "python",
   "pygments_lexer": "ipython3",
   "version": "3.12.4"
  }
 },
 "nbformat": 4,
 "nbformat_minor": 5
}
