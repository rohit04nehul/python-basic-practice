{
 "cells": [
  {
   "cell_type": "code",
   "execution_count": 1,
   "id": "1b0652a2-9d42-4b6f-a70d-b2813de2b589",
   "metadata": {},
   "outputs": [],
   "source": [
    "list1 = [1,2,\"Rohit\"]"
   ]
  },
  {
   "cell_type": "code",
   "execution_count": 2,
   "id": "98069b7e-d28c-4f13-bfa7-9b280ad4e7bc",
   "metadata": {},
   "outputs": [
    {
     "name": "stdout",
     "output_type": "stream",
     "text": [
      "[1, 2, 'Rohit']\n"
     ]
    }
   ],
   "source": [
    "print(list1)"
   ]
  },
  {
   "cell_type": "code",
   "execution_count": 3,
   "id": "1b459d99-f368-4291-9030-57cc267394f2",
   "metadata": {},
   "outputs": [
    {
     "name": "stdout",
     "output_type": "stream",
     "text": [
      "3\n"
     ]
    }
   ],
   "source": [
    "print(len(list1))"
   ]
  },
  {
   "cell_type": "code",
   "execution_count": 4,
   "id": "5b03b435-2962-4fb8-a57b-2903e7e96b08",
   "metadata": {},
   "outputs": [
    {
     "data": {
      "text/plain": [
       "list"
      ]
     },
     "execution_count": 4,
     "metadata": {},
     "output_type": "execute_result"
    }
   ],
   "source": [
    "type(list1)"
   ]
  },
  {
   "cell_type": "code",
   "execution_count": 5,
   "id": "e6cc5743-a3c2-460b-adb7-b977f4d3033b",
   "metadata": {},
   "outputs": [],
   "source": [
    "# nested list\n",
    "\n",
    "list2 = [1,2,3,[\"Rohit\",\"Nehul\"]]"
   ]
  },
  {
   "cell_type": "code",
   "execution_count": 6,
   "id": "4419d525-5165-4c52-aa03-d5fa993b3676",
   "metadata": {},
   "outputs": [
    {
     "name": "stdout",
     "output_type": "stream",
     "text": [
      "[1, 2, 3, ['Rohit', 'Nehul']]\n"
     ]
    }
   ],
   "source": [
    "print(list2)"
   ]
  },
  {
   "cell_type": "code",
   "execution_count": 7,
   "id": "fd8fbda7-7cc0-4ee1-bd43-320ffd40d7ca",
   "metadata": {},
   "outputs": [
    {
     "data": {
      "text/plain": [
       "4"
      ]
     },
     "execution_count": 7,
     "metadata": {},
     "output_type": "execute_result"
    }
   ],
   "source": [
    "len(list2)"
   ]
  },
  {
   "cell_type": "code",
   "execution_count": 11,
   "id": "c8dc45b2-43c4-4199-a5e4-8e70751068f2",
   "metadata": {},
   "outputs": [
    {
     "data": {
      "text/plain": [
       "'Nehul'"
      ]
     },
     "execution_count": 11,
     "metadata": {},
     "output_type": "execute_result"
    }
   ],
   "source": [
    "list2[-1][1]"
   ]
  },
  {
   "cell_type": "code",
   "execution_count": 13,
   "id": "aafbccc3-8e80-4391-b35f-fff56a159b7e",
   "metadata": {},
   "outputs": [
    {
     "data": {
      "text/plain": [
       "['Rohit', 'Nehul']"
      ]
     },
     "execution_count": 13,
     "metadata": {},
     "output_type": "execute_result"
    }
   ],
   "source": [
    "#slicing\n",
    "list2[-1]"
   ]
  },
  {
   "cell_type": "code",
   "execution_count": 15,
   "id": "f4035e93-47fd-4da6-a72a-d68d7be25e7b",
   "metadata": {},
   "outputs": [
    {
     "name": "stdout",
     "output_type": "stream",
     "text": [
      "[1, 2, 3, 4, 5, 6, 7, 8, 9, 10]\n",
      "10\n"
     ]
    }
   ],
   "source": [
    "#list concatenate\n",
    "a = [1,2,3,4,5]\n",
    "b = [6,7,8,9,10]\n",
    "\n",
    "c = a + b\n",
    "\n",
    "print(c)\n",
    "print(len(c))"
   ]
  },
  {
   "cell_type": "code",
   "execution_count": 16,
   "id": "86bb67b7-35c0-4de3-b800-9470a465d0a3",
   "metadata": {},
   "outputs": [
    {
     "data": {
      "text/plain": [
       "[1, 2, 3, 4, 5, 6, 7, 8, 9, 10]"
      ]
     },
     "execution_count": 16,
     "metadata": {},
     "output_type": "execute_result"
    }
   ],
   "source": [
    "c"
   ]
  },
  {
   "cell_type": "code",
   "execution_count": 17,
   "id": "e0d8d0d7-253f-47ce-8b51-6424f128dd57",
   "metadata": {},
   "outputs": [],
   "source": [
    "d = [11,12]\n",
    "\n",
    "c = c + d\n"
   ]
  },
  {
   "cell_type": "code",
   "execution_count": 18,
   "id": "e137aaa0-b246-4345-bbce-ade700e2af95",
   "metadata": {},
   "outputs": [
    {
     "name": "stdout",
     "output_type": "stream",
     "text": [
      "[1, 2, 3, 4, 5, 6, 7, 8, 9, 10, 11, 12]\n"
     ]
    }
   ],
   "source": [
    "print(c)"
   ]
  },
  {
   "cell_type": "code",
   "execution_count": 22,
   "id": "541eee5c-db18-4d54-ad7a-9a92c2eea03d",
   "metadata": {},
   "outputs": [
    {
     "name": "stdout",
     "output_type": "stream",
     "text": [
      "True\n",
      "False\n"
     ]
    }
   ],
   "source": [
    "a = [1, 2, 3, 4, 5, 6, 7]\n",
    "print(1 in a)\n",
    "print(8 in a)\n"
   ]
  },
  {
   "cell_type": "code",
   "execution_count": 28,
   "id": "45329e1c-5ea5-41e6-adf5-c21b23fae276",
   "metadata": {},
   "outputs": [],
   "source": [
    "# mutability\n",
    "\n",
    "a[-1] = 8"
   ]
  },
  {
   "cell_type": "code",
   "execution_count": 29,
   "id": "3f043a44-66f9-4938-9cc0-bd0716ad37f9",
   "metadata": {},
   "outputs": [
    {
     "data": {
      "text/plain": [
       "[1, 2, 3, 4, 5, 6, 8]"
      ]
     },
     "execution_count": 29,
     "metadata": {},
     "output_type": "execute_result"
    }
   ],
   "source": [
    "a"
   ]
  },
  {
   "cell_type": "code",
   "execution_count": 31,
   "id": "220c76ed-a8c6-4497-8203-4f21555df737",
   "metadata": {},
   "outputs": [
    {
     "name": "stdout",
     "output_type": "stream",
     "text": [
      "[1, 2, 3, 4, 5, 6, 7, 8, 9]\n"
     ]
    }
   ],
   "source": [
    "#extend() function -> it extends list\n",
    "\n",
    "list1 = [1,2,3,4,5,6]\n",
    "list1.extend([7,8,9])\n",
    "print(list1)"
   ]
  },
  {
   "cell_type": "code",
   "execution_count": 32,
   "id": "45532b32-cc09-4f0c-8e54-2c970de71f7c",
   "metadata": {},
   "outputs": [
    {
     "name": "stdout",
     "output_type": "stream",
     "text": [
      "[1, 2, 3, 4]\n"
     ]
    }
   ],
   "source": [
    "#.append() method adds an element to the end of a list.\n",
    "numbers = [1, 2, 3]\n",
    "numbers.append(4)\n",
    "print(numbers)\n"
   ]
  },
  {
   "cell_type": "code",
   "execution_count": 33,
   "id": "57cfd613-7d64-4c10-9f72-9ec51e252d29",
   "metadata": {},
   "outputs": [
    {
     "name": "stdout",
     "output_type": "stream",
     "text": [
      "[10, 30, 40]\n"
     ]
    }
   ],
   "source": [
    "a = [10, 20, 30, 40]\n",
    "del a[1]     # deletes the element at index 1 (20)\n",
    "print(a)\n"
   ]
  },
  {
   "cell_type": "code",
   "execution_count": 34,
   "id": "826f22ef-609b-45a8-8134-86fcc7310040",
   "metadata": {},
   "outputs": [
    {
     "name": "stdout",
     "output_type": "stream",
     "text": [
      "[10, 20, 30]\n",
      "40\n"
     ]
    }
   ],
   "source": [
    "# pop\n",
    "\n",
    "# If you give an index, it removes the element at that index.\n",
    "\n",
    "# If you don’t give an index, it removes the last element by default.\n",
    "\n",
    "a = [10, 20, 30, 40]\n",
    "x = a.pop()\n",
    "print(a)   # [10, 20, 30]\n",
    "print(x)   # 40\n"
   ]
  },
  {
   "cell_type": "code",
   "execution_count": 39,
   "id": "522424f4-d02e-4ed4-acc1-0f25af3574f9",
   "metadata": {},
   "outputs": [],
   "source": [
    "# remove\n",
    "a = [1,2,3,4,5,6,7,8]\n",
    "a.remove(a[1])"
   ]
  },
  {
   "cell_type": "code",
   "execution_count": 40,
   "id": "97e8bc3f-b57c-4f11-b72e-b283fd22b767",
   "metadata": {},
   "outputs": [
    {
     "data": {
      "text/plain": [
       "[1, 3, 4, 5, 6, 7, 8]"
      ]
     },
     "execution_count": 40,
     "metadata": {},
     "output_type": "execute_result"
    }
   ],
   "source": [
    "a"
   ]
  },
  {
   "cell_type": "code",
   "execution_count": 41,
   "id": "813bdbc5-60dd-4955-92c0-e4c64bde717c",
   "metadata": {},
   "outputs": [
    {
     "name": "stdout",
     "output_type": "stream",
     "text": [
      "[0, 1, 3, 5, 8, 9]\n"
     ]
    }
   ],
   "source": [
    "# sorting\n",
    "\n",
    "a = [1,5,8,3,9,0]\n",
    "a.sort()\n",
    "print(a)"
   ]
  },
  {
   "cell_type": "code",
   "execution_count": 43,
   "id": "249c1a8c-d6a4-4805-950a-c67b384c2693",
   "metadata": {},
   "outputs": [
    {
     "name": "stdout",
     "output_type": "stream",
     "text": [
      "[9, 8, 5, 3, 1, 0]\n"
     ]
    }
   ],
   "source": [
    "a.sort(reverse=True)\n",
    "print(a)"
   ]
  },
  {
   "cell_type": "code",
   "execution_count": 44,
   "id": "b52675b1-0577-4abd-96a6-93f44d185aa0",
   "metadata": {},
   "outputs": [
    {
     "name": "stdout",
     "output_type": "stream",
     "text": [
      "[8, 5]\n"
     ]
    }
   ],
   "source": [
    "print(a[1:3])"
   ]
  },
  {
   "cell_type": "code",
   "execution_count": 45,
   "id": "0dc75fe4-8f9d-4635-a637-d14d25922c0d",
   "metadata": {},
   "outputs": [
    {
     "data": {
      "text/plain": [
       "0"
      ]
     },
     "execution_count": 45,
     "metadata": {},
     "output_type": "execute_result"
    }
   ],
   "source": [
    "a.pop()"
   ]
  },
  {
   "cell_type": "code",
   "execution_count": 46,
   "id": "b6e77a08-f1dd-4f2b-a4e6-4547ca8c164c",
   "metadata": {},
   "outputs": [
    {
     "name": "stdout",
     "output_type": "stream",
     "text": [
      "[9, 8, 5, 3, 1]\n"
     ]
    }
   ],
   "source": [
    "print(a)"
   ]
  },
  {
   "cell_type": "code",
   "execution_count": 47,
   "id": "d9396ea2-f6ef-4b87-93c8-342b79a9001d",
   "metadata": {},
   "outputs": [
    {
     "data": {
      "text/plain": [
       "1"
      ]
     },
     "execution_count": 47,
     "metadata": {},
     "output_type": "execute_result"
    }
   ],
   "source": [
    "a.pop()"
   ]
  },
  {
   "cell_type": "code",
   "execution_count": 48,
   "id": "bb065e4b-0fc4-42e0-bf92-3d971be7d746",
   "metadata": {},
   "outputs": [
    {
     "data": {
      "text/plain": [
       "3"
      ]
     },
     "execution_count": 48,
     "metadata": {},
     "output_type": "execute_result"
    }
   ],
   "source": [
    "a.pop()"
   ]
  },
  {
   "cell_type": "code",
   "execution_count": 49,
   "id": "ec8a65e0-a5bb-4bcf-89bb-3d2c9cef5059",
   "metadata": {},
   "outputs": [
    {
     "data": {
      "text/plain": [
       "[9, 8, 5]"
      ]
     },
     "execution_count": 49,
     "metadata": {},
     "output_type": "execute_result"
    }
   ],
   "source": [
    "a"
   ]
  },
  {
   "cell_type": "code",
   "execution_count": null,
   "id": "01cda80a-f044-4d96-86c9-e5eac602027c",
   "metadata": {},
   "outputs": [],
   "source": []
  }
 ],
 "metadata": {
  "kernelspec": {
   "display_name": "Python 3 (ipykernel)",
   "language": "python",
   "name": "python3"
  },
  "language_info": {
   "codemirror_mode": {
    "name": "ipython",
    "version": 3
   },
   "file_extension": ".py",
   "mimetype": "text/x-python",
   "name": "python",
   "nbconvert_exporter": "python",
   "pygments_lexer": "ipython3",
   "version": "3.12.4"
  }
 },
 "nbformat": 4,
 "nbformat_minor": 5
}
