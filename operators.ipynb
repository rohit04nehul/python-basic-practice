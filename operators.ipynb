{
 "cells": [
  {
   "cell_type": "code",
   "execution_count": 1,
   "id": "fa697df5-dc5f-4411-aed3-f3b566a38771",
   "metadata": {},
   "outputs": [],
   "source": [
    "# basic operations -> Addition , Subtraction , Multiplication , Division , Floor Division , Modulus etc."
   ]
  },
  {
   "cell_type": "code",
   "execution_count": 2,
   "id": "0be80d2d-50d0-4571-9d30-83f65d2d4d01",
   "metadata": {},
   "outputs": [],
   "source": [
    "a = 10\n",
    "b = 2"
   ]
  },
  {
   "cell_type": "code",
   "execution_count": 3,
   "id": "98fa14b7-0239-4e73-a1ec-e00832b3c351",
   "metadata": {},
   "outputs": [
    {
     "name": "stdout",
     "output_type": "stream",
     "text": [
      "12\n"
     ]
    }
   ],
   "source": [
    "print(a+b)"
   ]
  },
  {
   "cell_type": "code",
   "execution_count": 4,
   "id": "53cb9107-c8aa-425d-ae2a-0c8321a487b5",
   "metadata": {},
   "outputs": [
    {
     "data": {
      "text/plain": [
       "81"
      ]
     },
     "execution_count": 4,
     "metadata": {},
     "output_type": "execute_result"
    }
   ],
   "source": [
    "a = 3\n",
    "b = 4\n",
    "a**b"
   ]
  },
  {
   "cell_type": "code",
   "execution_count": 6,
   "id": "8ba3b3e5-c42e-4985-8dc4-b7a10f9e1643",
   "metadata": {},
   "outputs": [
    {
     "data": {
      "text/plain": [
       "0.75"
      ]
     },
     "execution_count": 6,
     "metadata": {},
     "output_type": "execute_result"
    }
   ],
   "source": [
    "a/b"
   ]
  },
  {
   "cell_type": "code",
   "execution_count": 7,
   "id": "4c4b4855-1339-4cb0-bb95-94f4dd5b329d",
   "metadata": {},
   "outputs": [
    {
     "data": {
      "text/plain": [
       "-1"
      ]
     },
     "execution_count": 7,
     "metadata": {},
     "output_type": "execute_result"
    }
   ],
   "source": [
    "a-b"
   ]
  },
  {
   "cell_type": "code",
   "execution_count": 8,
   "id": "7f661d96-657d-4d52-9e5e-307dddf64b63",
   "metadata": {},
   "outputs": [
    {
     "data": {
      "text/plain": [
       "12"
      ]
     },
     "execution_count": 8,
     "metadata": {},
     "output_type": "execute_result"
    }
   ],
   "source": [
    "a*b"
   ]
  },
  {
   "cell_type": "code",
   "execution_count": 13,
   "id": "710f4eb8-efcf-4140-9832-2c0837d668c3",
   "metadata": {},
   "outputs": [
    {
     "name": "stdout",
     "output_type": "stream",
     "text": [
      "13\n",
      "7\n",
      "30\n",
      "3.3333333333333335\n",
      "3\n",
      "1\n",
      "1000\n"
     ]
    }
   ],
   "source": [
    "# Arithmetic Operators\n",
    "a = 10\n",
    "b = 3\n",
    "\n",
    "print(a + b)   # Addition → 13\n",
    "print(a - b)   # Subtraction → 7\n",
    "print(a * b)   # Multiplication → 30\n",
    "print(a / b)   # Division → 3.333...\n",
    "print(a // b)  # Floor Division → 3\n",
    "print(a % b)   # Modulus (remainder) → 1\n",
    "print(a ** b)  # Exponentiation → 1000\n"
   ]
  },
  {
   "cell_type": "code",
   "execution_count": 14,
   "id": "440932c2-62b7-4f04-8440-c1692af39608",
   "metadata": {},
   "outputs": [
    {
     "name": "stdout",
     "output_type": "stream",
     "text": [
      "True\n",
      "False\n",
      "False\n",
      "True\n",
      "True\n",
      "False\n"
     ]
    }
   ],
   "source": [
    "# Comparison Operators\n",
    "print(a > b)    # Greater than\n",
    "print(a < b)    # Less than\n",
    "print(a == b)   # Equal to\n",
    "print(a != b)   # Not equal to\n",
    "print(a >= b)   # Greater than or equal to\n",
    "print(a <= b)   # Less than or equal to\n"
   ]
  },
  {
   "cell_type": "code",
   "execution_count": 15,
   "id": "b2a1c68a-21e0-4605-9338-1f7e804efe5e",
   "metadata": {},
   "outputs": [
    {
     "name": "stdout",
     "output_type": "stream",
     "text": [
      "False\n",
      "True\n",
      "False\n"
     ]
    }
   ],
   "source": [
    "# Logical Operators\n",
    "x = True\n",
    "y = False\n",
    "\n",
    "print(x and y)  # AND → False\n",
    "print(x or y)   # OR → True\n",
    "print(not x)    # NOT → False\n"
   ]
  },
  {
   "cell_type": "code",
   "execution_count": 19,
   "id": "f4e0f07d-1568-4321-9fd6-da661bb858e9",
   "metadata": {},
   "outputs": [],
   "source": [
    "# Assignment Operators\n",
    "a = 5        # Assignment\n",
    "a += 2  # a = a + 2 → 7\n",
    "a -= 1       # a = a - 1 → 6\n",
    "a *= 3       # a = a * 3 → 18\n",
    "a /= 2       # a = a / 2 → 9.0\n"
   ]
  },
  {
   "cell_type": "code",
   "execution_count": null,
   "id": "816d8bd8-5d17-4930-9306-0f5670b5f0d5",
   "metadata": {},
   "outputs": [],
   "source": []
  }
 ],
 "metadata": {
  "kernelspec": {
   "display_name": "Python 3 (ipykernel)",
   "language": "python",
   "name": "python3"
  },
  "language_info": {
   "codemirror_mode": {
    "name": "ipython",
    "version": 3
   },
   "file_extension": ".py",
   "mimetype": "text/x-python",
   "name": "python",
   "nbconvert_exporter": "python",
   "pygments_lexer": "ipython3",
   "version": "3.12.4"
  }
 },
 "nbformat": 4,
 "nbformat_minor": 5
}
