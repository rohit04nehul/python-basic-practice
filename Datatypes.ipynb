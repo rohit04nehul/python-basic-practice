{
 "cells": [
  {
   "cell_type": "code",
   "execution_count": 3,
   "id": "59f796a2-3bbd-4522-a9f4-457a8982872f",
   "metadata": {},
   "outputs": [
    {
     "name": "stdout",
     "output_type": "stream",
     "text": [
      "mike\n"
     ]
    }
   ],
   "source": [
    "name = 'mike'\n",
    "print(name)"
   ]
  },
  {
   "cell_type": "code",
   "execution_count": 8,
   "id": "2caf1903-36aa-4d11-9909-44c4b7eaa4dd",
   "metadata": {},
   "outputs": [
    {
     "name": "stdin",
     "output_type": "stream",
     "text": [
      "Enter your name :  rohit\n"
     ]
    },
    {
     "name": "stdout",
     "output_type": "stream",
     "text": [
      "welcome rohit\n"
     ]
    }
   ],
   "source": [
    "name = input('Enter your name : ')\n",
    "print('welcome' , name)"
   ]
  },
  {
   "cell_type": "code",
   "execution_count": 7,
   "id": "ca205a24-ed95-489c-bf5d-749169ace245",
   "metadata": {},
   "outputs": [
    {
     "data": {
      "text/plain": [
       "str"
      ]
     },
     "execution_count": 7,
     "metadata": {},
     "output_type": "execute_result"
    }
   ],
   "source": [
    "type(name)"
   ]
  },
  {
   "cell_type": "code",
   "execution_count": 9,
   "id": "275d2fad-0cfb-4fcd-a0d4-e9149828e637",
   "metadata": {},
   "outputs": [],
   "source": [
    "a = True\n",
    "b = 'True'"
   ]
  },
  {
   "cell_type": "code",
   "execution_count": 10,
   "id": "2c0853ce-4bf7-4c88-93ec-683fb860ad86",
   "metadata": {},
   "outputs": [
    {
     "name": "stdout",
     "output_type": "stream",
     "text": [
      "<class 'bool'>\n",
      "<class 'str'>\n"
     ]
    }
   ],
   "source": [
    "print(type(a))\n",
    "print(type(b))"
   ]
  },
  {
   "cell_type": "raw",
   "id": "ab3bb7f5-40a0-400c-b463-8b47380640df",
   "metadata": {},
   "source": [
    "# Typecasting"
   ]
  },
  {
   "cell_type": "code",
   "execution_count": 14,
   "id": "ab7b1ed5-1715-4675-b2da-e101db07b7c9",
   "metadata": {},
   "outputs": [
    {
     "name": "stdout",
     "output_type": "stream",
     "text": [
      "91.2\n"
     ]
    }
   ],
   "source": [
    "accuracy = 91.2\n",
    "print(accuracy)"
   ]
  },
  {
   "cell_type": "code",
   "execution_count": 15,
   "id": "20358a2d-d813-4232-a730-4e0fc2306d6e",
   "metadata": {},
   "outputs": [
    {
     "name": "stdout",
     "output_type": "stream",
     "text": [
      "<class 'float'>\n"
     ]
    }
   ],
   "source": [
    "print(type(accuracy))"
   ]
  },
  {
   "cell_type": "code",
   "execution_count": 16,
   "id": "f6a11573-00ce-44b8-9922-f2e43d71bcd8",
   "metadata": {},
   "outputs": [
    {
     "data": {
      "text/plain": [
       "91"
      ]
     },
     "execution_count": 16,
     "metadata": {},
     "output_type": "execute_result"
    }
   ],
   "source": [
    "int(accuracy)"
   ]
  },
  {
   "cell_type": "code",
   "execution_count": 17,
   "id": "c879cd59-97df-41a9-98f4-2e4d90652875",
   "metadata": {},
   "outputs": [
    {
     "data": {
      "text/plain": [
       "int"
      ]
     },
     "execution_count": 17,
     "metadata": {},
     "output_type": "execute_result"
    }
   ],
   "source": [
    "var = 2 \n",
    "type(var)"
   ]
  },
  {
   "cell_type": "code",
   "execution_count": 18,
   "id": "7382bbd1-9be6-41be-ae1d-6ad5e8796f59",
   "metadata": {},
   "outputs": [
    {
     "name": "stdout",
     "output_type": "stream",
     "text": [
      "2.0\n",
      "<class 'float'>\n"
     ]
    }
   ],
   "source": [
    "var1 = float(var)\n",
    "print(var1)\n",
    "print(type(var1))"
   ]
  },
  {
   "cell_type": "code",
   "execution_count": 19,
   "id": "b54e3f19-5810-4309-9a21-201311465f28",
   "metadata": {},
   "outputs": [
    {
     "data": {
      "text/plain": [
       "int"
      ]
     },
     "execution_count": 19,
     "metadata": {},
     "output_type": "execute_result"
    }
   ],
   "source": [
    "type(var)"
   ]
  },
  {
   "cell_type": "code",
   "execution_count": 20,
   "id": "a64f8bea-0178-46f4-a772-220adb304ef2",
   "metadata": {},
   "outputs": [],
   "source": [
    " var = 2\n",
    "new_var = str(var)\n"
   ]
  },
  {
   "cell_type": "code",
   "execution_count": 21,
   "id": "a0837a21-682d-4357-98bf-e5f8186d708c",
   "metadata": {},
   "outputs": [
    {
     "data": {
      "text/plain": [
       "str"
      ]
     },
     "execution_count": 21,
     "metadata": {},
     "output_type": "execute_result"
    }
   ],
   "source": [
    "type(new_var)"
   ]
  },
  {
   "cell_type": "code",
   "execution_count": 22,
   "id": "f1198b03-b2fc-4181-a139-8510d7074297",
   "metadata": {},
   "outputs": [
    {
     "data": {
      "text/plain": [
       "2"
      ]
     },
     "execution_count": 22,
     "metadata": {},
     "output_type": "execute_result"
    }
   ],
   "source": [
    "int(\"2\")"
   ]
  },
  {
   "cell_type": "code",
   "execution_count": 25,
   "id": "368e38a9-1999-4797-bf32-ccf906fb94a2",
   "metadata": {},
   "outputs": [
    {
     "data": {
      "text/plain": [
       "str"
      ]
     },
     "execution_count": 25,
     "metadata": {},
     "output_type": "execute_result"
    }
   ],
   "source": [
    "var_new = \"2.5\"\n",
    "type(var_new)"
   ]
  },
  {
   "cell_type": "code",
   "execution_count": 26,
   "id": "acf5d137-0583-4ff1-86c0-2de654a9fa7c",
   "metadata": {},
   "outputs": [
    {
     "ename": "ValueError",
     "evalue": "invalid literal for int() with base 10: '2.5'",
     "output_type": "error",
     "traceback": [
      "\u001b[1;31m---------------------------------------------------------------------------\u001b[0m",
      "\u001b[1;31mValueError\u001b[0m                                Traceback (most recent call last)",
      "Cell \u001b[1;32mIn[26], line 1\u001b[0m\n\u001b[1;32m----> 1\u001b[0m \u001b[38;5;28mint\u001b[39m(var_new)\n",
      "\u001b[1;31mValueError\u001b[0m: invalid literal for int() with base 10: '2.5'"
     ]
    }
   ],
   "source": [
    "int(var_new)"
   ]
  },
  {
   "cell_type": "code",
   "execution_count": 27,
   "id": "8c74df8a-fb89-4842-bf10-0069985529aa",
   "metadata": {},
   "outputs": [
    {
     "data": {
      "text/plain": [
       "2.5"
      ]
     },
     "execution_count": 27,
     "metadata": {},
     "output_type": "execute_result"
    }
   ],
   "source": [
    "float(var_new)"
   ]
  },
  {
   "cell_type": "code",
   "execution_count": 28,
   "id": "205efaaf-b1b4-418a-a53c-bfa00d3ea4bb",
   "metadata": {},
   "outputs": [
    {
     "data": {
      "text/plain": [
       "2"
      ]
     },
     "execution_count": 28,
     "metadata": {},
     "output_type": "execute_result"
    }
   ],
   "source": [
    "int(float(\"2.5\"))"
   ]
  },
  {
   "cell_type": "code",
   "execution_count": 29,
   "id": "2a18ae4c-9a00-4153-b3d5-e209be0b1d30",
   "metadata": {},
   "outputs": [],
   "source": [
    "# string to int for float number"
   ]
  },
  {
   "cell_type": "code",
   "execution_count": 30,
   "id": "809bfd50-3fda-4bde-85a7-4aa336c8da11",
   "metadata": {},
   "outputs": [],
   "source": [
    "string_var = 'ABCDEFGH'\n"
   ]
  },
  {
   "cell_type": "code",
   "execution_count": 36,
   "id": "bee854fa-89d2-4bbc-ac3a-2be49aadcefb",
   "metadata": {},
   "outputs": [
    {
     "name": "stdout",
     "output_type": "stream",
     "text": [
      "HELLO\n"
     ]
    }
   ],
   "source": [
    "string_var = 'HELLO'\n",
    "\n",
    "#[H E L L O]\n",
    "\n",
    "#H -> 0th index -5\n",
    "#E -> 1th index -4\n",
    "#L -> 2th index -3\n",
    "#L -> 3th index -2\n",
    "#O -> 4th index -1\n",
    "\n",
    "print(string_var)"
   ]
  },
  {
   "cell_type": "code",
   "execution_count": 37,
   "id": "dfb34191-34d6-4a92-a067-456af4bd99bd",
   "metadata": {},
   "outputs": [
    {
     "data": {
      "text/plain": [
       "'H'"
      ]
     },
     "execution_count": 37,
     "metadata": {},
     "output_type": "execute_result"
    }
   ],
   "source": [
    "string_var[0]"
   ]
  },
  {
   "cell_type": "code",
   "execution_count": 38,
   "id": "aa9658d9-39cb-4d37-8fca-5261b2b66627",
   "metadata": {},
   "outputs": [
    {
     "data": {
      "text/plain": [
       "'E'"
      ]
     },
     "execution_count": 38,
     "metadata": {},
     "output_type": "execute_result"
    }
   ],
   "source": [
    "string_var[1]"
   ]
  },
  {
   "cell_type": "code",
   "execution_count": 39,
   "id": "8717ba42-dc33-432f-8b21-f33ce1e94598",
   "metadata": {},
   "outputs": [
    {
     "data": {
      "text/plain": [
       "'L'"
      ]
     },
     "execution_count": 39,
     "metadata": {},
     "output_type": "execute_result"
    }
   ],
   "source": [
    "string_var[2]"
   ]
  },
  {
   "cell_type": "code",
   "execution_count": 40,
   "id": "2197db5b-0f74-43c1-bf84-3b8a425c7dd7",
   "metadata": {},
   "outputs": [
    {
     "data": {
      "text/plain": [
       "'L'"
      ]
     },
     "execution_count": 40,
     "metadata": {},
     "output_type": "execute_result"
    }
   ],
   "source": [
    "string_var[3]"
   ]
  },
  {
   "cell_type": "code",
   "execution_count": 41,
   "id": "cdb0af56-744c-4947-9310-724258978620",
   "metadata": {},
   "outputs": [
    {
     "data": {
      "text/plain": [
       "'O'"
      ]
     },
     "execution_count": 41,
     "metadata": {},
     "output_type": "execute_result"
    }
   ],
   "source": [
    "string_var[4]"
   ]
  },
  {
   "cell_type": "code",
   "execution_count": 43,
   "id": "b29d2343-c9e5-4fd9-b244-504b4c359e1a",
   "metadata": {},
   "outputs": [
    {
     "data": {
      "text/plain": [
       "'O'"
      ]
     },
     "execution_count": 43,
     "metadata": {},
     "output_type": "execute_result"
    }
   ],
   "source": [
    "string_var[-1]"
   ]
  },
  {
   "cell_type": "code",
   "execution_count": 45,
   "id": "552aa742-c421-4b20-8e9b-b99f1d63534c",
   "metadata": {},
   "outputs": [
    {
     "data": {
      "text/plain": [
       "'L'"
      ]
     },
     "execution_count": 45,
     "metadata": {},
     "output_type": "execute_result"
    }
   ],
   "source": [
    "string_var[-2]"
   ]
  },
  {
   "cell_type": "code",
   "execution_count": 47,
   "id": "fdbfb379-a50e-4de8-a3f5-f19d4445223d",
   "metadata": {},
   "outputs": [
    {
     "data": {
      "text/plain": [
       "'H'"
      ]
     },
     "execution_count": 47,
     "metadata": {},
     "output_type": "execute_result"
    }
   ],
   "source": [
    "string_var[-5]"
   ]
  },
  {
   "cell_type": "code",
   "execution_count": 48,
   "id": "44efa45c-c765-4629-acb1-973aa8292627",
   "metadata": {},
   "outputs": [
    {
     "ename": "TypeError",
     "evalue": "'str' object does not support item assignment",
     "output_type": "error",
     "traceback": [
      "\u001b[1;31m---------------------------------------------------------------------------\u001b[0m",
      "\u001b[1;31mTypeError\u001b[0m                                 Traceback (most recent call last)",
      "Cell \u001b[1;32mIn[48], line 1\u001b[0m\n\u001b[1;32m----> 1\u001b[0m string_var[\u001b[38;5;241m0\u001b[39m] \u001b[38;5;241m=\u001b[39m \u001b[38;5;124m'\u001b[39m\u001b[38;5;124mY\u001b[39m\u001b[38;5;124m'\u001b[39m\n",
      "\u001b[1;31mTypeError\u001b[0m: 'str' object does not support item assignment"
     ]
    }
   ],
   "source": [
    "string_var[0] = 'Y'"
   ]
  },
  {
   "cell_type": "code",
   "execution_count": 49,
   "id": "cea9a9dc-6f17-4cbb-83d8-0c72f30c8cd2",
   "metadata": {},
   "outputs": [],
   "source": [
    "# string are immutable in nature\n"
   ]
  },
  {
   "cell_type": "code",
   "execution_count": 50,
   "id": "cbf2f815-fb66-4d4c-b93b-8d8378c34f5f",
   "metadata": {},
   "outputs": [],
   "source": [
    "str1 = 'HELLO'"
   ]
  },
  {
   "cell_type": "code",
   "execution_count": 51,
   "id": "c78e37d7-86ea-4651-acf2-7adb28e58651",
   "metadata": {},
   "outputs": [
    {
     "ename": "TypeError",
     "evalue": "'str' object does not support item assignment",
     "output_type": "error",
     "traceback": [
      "\u001b[1;31m---------------------------------------------------------------------------\u001b[0m",
      "\u001b[1;31mTypeError\u001b[0m                                 Traceback (most recent call last)",
      "Cell \u001b[1;32mIn[51], line 1\u001b[0m\n\u001b[1;32m----> 1\u001b[0m str1[\u001b[38;5;241m0\u001b[39m] \u001b[38;5;241m=\u001b[39m \u001b[38;5;124m'\u001b[39m\u001b[38;5;124mY\u001b[39m\u001b[38;5;124m'\u001b[39m\n",
      "\u001b[1;31mTypeError\u001b[0m: 'str' object does not support item assignment"
     ]
    }
   ],
   "source": [
    "str1[0] = 'Y'"
   ]
  },
  {
   "cell_type": "code",
   "execution_count": 52,
   "id": "fbf75973-6ff9-4859-8613-2ceb8f7aaca3",
   "metadata": {},
   "outputs": [],
   "source": [
    "# not possible so if we have to do then we have to reassign the variable"
   ]
  },
  {
   "cell_type": "code",
   "execution_count": 53,
   "id": "29101eb5-65c3-4b89-91c3-c2f3b14bb197",
   "metadata": {},
   "outputs": [],
   "source": [
    "str1 = 'YELLO'"
   ]
  },
  {
   "cell_type": "code",
   "execution_count": 55,
   "id": "b88bd0d9-61a3-4f7d-ac11-44b21ba57b1f",
   "metadata": {},
   "outputs": [
    {
     "name": "stdout",
     "output_type": "stream",
     "text": [
      "3.9\n"
     ]
    }
   ],
   "source": [
    "x = 3.9\n",
    "print(float(x))"
   ]
  },
  {
   "cell_type": "code",
   "execution_count": 56,
   "id": "31d1b95d-62c4-4d03-952c-96e91dde5ff8",
   "metadata": {},
   "outputs": [
    {
     "name": "stdout",
     "output_type": "stream",
     "text": [
      "3\n"
     ]
    }
   ],
   "source": [
    "print(int(x))"
   ]
  },
  {
   "cell_type": "code",
   "execution_count": 57,
   "id": "25749bc3-bb5f-42ca-b0f4-b785a0da42dc",
   "metadata": {},
   "outputs": [
    {
     "name": "stdout",
     "output_type": "stream",
     "text": [
      "-2\n"
     ]
    }
   ],
   "source": [
    "print(4 % ( 1 + 9 ) ** 2 - 60 // ( 7 + 2))"
   ]
  },
  {
   "cell_type": "code",
   "execution_count": null,
   "id": "5772afd0-6892-4d28-b925-048c846d3d4c",
   "metadata": {},
   "outputs": [],
   "source": []
  }
 ],
 "metadata": {
  "kernelspec": {
   "display_name": "Python 3 (ipykernel)",
   "language": "python",
   "name": "python3"
  },
  "language_info": {
   "codemirror_mode": {
    "name": "ipython",
    "version": 3
   },
   "file_extension": ".py",
   "mimetype": "text/x-python",
   "name": "python",
   "nbconvert_exporter": "python",
   "pygments_lexer": "ipython3",
   "version": "3.12.4"
  }
 },
 "nbformat": 4,
 "nbformat_minor": 5
}
