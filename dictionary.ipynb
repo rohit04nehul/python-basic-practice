{
 "cells": [
  {
   "cell_type": "code",
   "execution_count": 2,
   "id": "f38fe4aa-0880-4bf6-be1c-2f2124a4b70d",
   "metadata": {},
   "outputs": [
    {
     "name": "stdout",
     "output_type": "stream",
     "text": [
      "{'name': 'Rohit', 'age': 10}\n"
     ]
    }
   ],
   "source": [
    "d1 = { \"name\" : \"Rohit\" , \"age\" : 10}\n",
    "\n",
    "print(d1)"
   ]
  },
  {
   "cell_type": "code",
   "execution_count": 3,
   "id": "a672b2d3-590c-4db6-bcd7-b15caebdc65d",
   "metadata": {},
   "outputs": [
    {
     "data": {
      "text/plain": [
       "dict"
      ]
     },
     "execution_count": 3,
     "metadata": {},
     "output_type": "execute_result"
    }
   ],
   "source": [
    "type(d1)"
   ]
  },
  {
   "cell_type": "code",
   "execution_count": 5,
   "id": "f3e7c604-dcb9-4fb7-be3d-f8cd66bbb8ea",
   "metadata": {},
   "outputs": [
    {
     "data": {
      "text/plain": [
       "2"
      ]
     },
     "execution_count": 5,
     "metadata": {},
     "output_type": "execute_result"
    }
   ],
   "source": [
    "len(d1)"
   ]
  },
  {
   "cell_type": "code",
   "execution_count": 7,
   "id": "5e826c56-7cf5-4e5c-9b3e-8f61a4fe0919",
   "metadata": {},
   "outputs": [
    {
     "data": {
      "text/plain": [
       "'Rohit'"
      ]
     },
     "execution_count": 7,
     "metadata": {},
     "output_type": "execute_result"
    }
   ],
   "source": [
    "d1[\"name\"]"
   ]
  },
  {
   "cell_type": "code",
   "execution_count": 8,
   "id": "1b0f06eb-687d-42ca-8282-24a0aa064223",
   "metadata": {},
   "outputs": [
    {
     "data": {
      "text/plain": [
       "10"
      ]
     },
     "execution_count": 8,
     "metadata": {},
     "output_type": "execute_result"
    }
   ],
   "source": [
    "d1[\"age\"]"
   ]
  },
  {
   "cell_type": "code",
   "execution_count": 10,
   "id": "0297127d-7c47-424a-8028-714a244f5b0f",
   "metadata": {},
   "outputs": [
    {
     "data": {
      "text/plain": [
       "{'name': 'ROHIT', 'age': 10, 'Rohit': 'ROHIT'}"
      ]
     },
     "execution_count": 10,
     "metadata": {},
     "output_type": "execute_result"
    }
   ],
   "source": [
    "d1[\"name\"] = \"ROHIT\"\n",
    "d1"
   ]
  },
  {
   "cell_type": "code",
   "execution_count": 14,
   "id": "2dd1841e-c48f-4d83-9b1f-f518ebbcb9f4",
   "metadata": {},
   "outputs": [],
   "source": [
    "del d1[\"Rohit\"]"
   ]
  },
  {
   "cell_type": "code",
   "execution_count": 15,
   "id": "8c932107-805f-4338-b99a-f7465175b4a3",
   "metadata": {},
   "outputs": [
    {
     "data": {
      "text/plain": [
       "{'name': 'ROHIT', 'age': 10}"
      ]
     },
     "execution_count": 15,
     "metadata": {},
     "output_type": "execute_result"
    }
   ],
   "source": [
    "d1"
   ]
  },
  {
   "cell_type": "code",
   "execution_count": 17,
   "id": "507378d0-e80e-4ac9-ba09-628d7926f8f0",
   "metadata": {},
   "outputs": [
    {
     "data": {
      "text/plain": [
       "['age', 'name']"
      ]
     },
     "execution_count": 17,
     "metadata": {},
     "output_type": "execute_result"
    }
   ],
   "source": [
    "# sort dictionary\n",
    "\n",
    "sorted(d1)"
   ]
  },
  {
   "cell_type": "code",
   "execution_count": 20,
   "id": "dfa7d008-e369-4525-a7e0-fa77f778b027",
   "metadata": {},
   "outputs": [
    {
     "data": {
      "text/plain": [
       "dict_values(['ROHIT', 10])"
      ]
     },
     "execution_count": 20,
     "metadata": {},
     "output_type": "execute_result"
    }
   ],
   "source": [
    "#values method\n",
    "d1.values()"
   ]
  },
  {
   "cell_type": "code",
   "execution_count": 21,
   "id": "571f2495-d59a-4049-b98c-69b22818b4e2",
   "metadata": {},
   "outputs": [
    {
     "data": {
      "text/plain": [
       "dict_keys(['name', 'age'])"
      ]
     },
     "execution_count": 21,
     "metadata": {},
     "output_type": "execute_result"
    }
   ],
   "source": [
    "#keys method\n",
    "d1.keys()"
   ]
  },
  {
   "cell_type": "code",
   "execution_count": 22,
   "id": "5048ee51-76fe-4941-9bff-e6f803f227eb",
   "metadata": {},
   "outputs": [
    {
     "data": {
      "text/plain": [
       "'ROHIT'"
      ]
     },
     "execution_count": 22,
     "metadata": {},
     "output_type": "execute_result"
    }
   ],
   "source": [
    "# get method\n",
    "\n",
    "d1.get('name')"
   ]
  },
  {
   "cell_type": "code",
   "execution_count": null,
   "id": "a2e1a55c-8f81-4cfc-822d-adff1034fce4",
   "metadata": {},
   "outputs": [],
   "source": []
  },
  {
   "cell_type": "code",
   "execution_count": null,
   "id": "d73a6645-9097-494b-ad81-213cace0810a",
   "metadata": {},
   "outputs": [],
   "source": []
  },
  {
   "cell_type": "code",
   "execution_count": 56,
   "id": "2e762e7c-e692-450e-abee-00df960a3b74",
   "metadata": {},
   "outputs": [],
   "source": [
    "student = {\n",
    "    \"name\": \"Rohit\",\n",
    "    \"age\": 22,\n",
    "    \"branch\": \"AI/ML\"\n",
    "}\n"
   ]
  },
  {
   "cell_type": "code",
   "execution_count": 57,
   "id": "79d28737-3f47-48ca-abd5-9ae2665b06f3",
   "metadata": {},
   "outputs": [
    {
     "data": {
      "text/plain": [
       "'Rohit'"
      ]
     },
     "execution_count": 57,
     "metadata": {},
     "output_type": "execute_result"
    }
   ],
   "source": [
    "student[\"name\"]        # Output: 'Rohit'\n",
    "\n",
    "\n"
   ]
  },
  {
   "cell_type": "code",
   "execution_count": 58,
   "id": "42da8d65-47aa-493b-9801-e66372e41724",
   "metadata": {},
   "outputs": [
    {
     "data": {
      "text/plain": [
       "22"
      ]
     },
     "execution_count": 58,
     "metadata": {},
     "output_type": "execute_result"
    }
   ],
   "source": [
    "student.get(\"age\")     # Output: 22\n"
   ]
  },
  {
   "cell_type": "code",
   "execution_count": 59,
   "id": "060c6d63-05a6-482f-8e73-1b9e02b36074",
   "metadata": {},
   "outputs": [
    {
     "data": {
      "text/plain": [
       "'Not Found'"
      ]
     },
     "execution_count": 59,
     "metadata": {},
     "output_type": "execute_result"
    }
   ],
   "source": [
    "student.get(\"marks\", \"Not Found\")  # Default value if key doesn't exist"
   ]
  },
  {
   "cell_type": "code",
   "execution_count": 60,
   "id": "0ca2e9de-0903-4234-b23c-c2bdadbe0b2d",
   "metadata": {},
   "outputs": [],
   "source": [
    "student[\"age\"] = 23          # Update"
   ]
  },
  {
   "cell_type": "code",
   "execution_count": 61,
   "id": "1ca59aa6-edeb-481d-8506-8872927a4f8c",
   "metadata": {},
   "outputs": [],
   "source": [
    "student[\"college\"] = \"MCOE\"  # Add new key-value pair"
   ]
  },
  {
   "cell_type": "code",
   "execution_count": null,
   "id": "058ad0d4-9199-43f8-ba71-301c0973b71c",
   "metadata": {},
   "outputs": [],
   "source": []
  },
  {
   "cell_type": "code",
   "execution_count": 62,
   "id": "d8727a33-a5e2-477b-8d80-a7f3677b76e9",
   "metadata": {},
   "outputs": [
    {
     "data": {
      "text/plain": [
       "23"
      ]
     },
     "execution_count": 62,
     "metadata": {},
     "output_type": "execute_result"
    }
   ],
   "source": [
    "student.pop(\"age\")           # Removes 'age' key\n",
    "\n",
    "\n"
   ]
  },
  {
   "cell_type": "code",
   "execution_count": null,
   "id": "d966e320-d4af-43f7-ac75-e3d5b0599b86",
   "metadata": {},
   "outputs": [],
   "source": [
    "\n"
   ]
  },
  {
   "cell_type": "code",
   "execution_count": 63,
   "id": "2476c653-35bc-4f1b-bfd2-23437da8a5b8",
   "metadata": {},
   "outputs": [],
   "source": [
    "del student[\"branch\"]        # Deletes 'branch' key"
   ]
  },
  {
   "cell_type": "code",
   "execution_count": 64,
   "id": "5150f2fb-971b-42e9-a420-9d610ec21e24",
   "metadata": {},
   "outputs": [],
   "source": [
    "student.clear()              # Empties the dictionary"
   ]
  },
  {
   "cell_type": "code",
   "execution_count": null,
   "id": "623a7161-e6e9-4461-947d-1d136d00f19b",
   "metadata": {},
   "outputs": [],
   "source": []
  }
 ],
 "metadata": {
  "kernelspec": {
   "display_name": "Python 3 (ipykernel)",
   "language": "python",
   "name": "python3"
  },
  "language_info": {
   "codemirror_mode": {
    "name": "ipython",
    "version": 3
   },
   "file_extension": ".py",
   "mimetype": "text/x-python",
   "name": "python",
   "nbconvert_exporter": "python",
   "pygments_lexer": "ipython3",
   "version": "3.12.4"
  }
 },
 "nbformat": 4,
 "nbformat_minor": 5
}
