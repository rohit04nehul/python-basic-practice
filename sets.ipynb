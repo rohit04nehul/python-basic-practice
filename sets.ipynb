{
 "cells": [
  {
   "cell_type": "markdown",
   "id": "b61d5f52-b83a-455c-b56d-273428c7c6f2",
   "metadata": {},
   "source": [
    "# Sets"
   ]
  },
  {
   "cell_type": "code",
   "execution_count": 1,
   "id": "2588671e-ba87-4530-9045-399a311c37b5",
   "metadata": {},
   "outputs": [],
   "source": [
    "A = {1, 2, 3, 4}\n",
    "B = {3, 4, 5, 6}"
   ]
  },
  {
   "cell_type": "code",
   "execution_count": 2,
   "id": "3f02ef29-22db-4b9d-9d0e-8c9bcce79e37",
   "metadata": {},
   "outputs": [
    {
     "name": "stdout",
     "output_type": "stream",
     "text": [
      "{1, 2, 3, 4}\n",
      "{3, 4, 5, 6}\n"
     ]
    }
   ],
   "source": [
    "print(A)\n",
    "print(B)"
   ]
  },
  {
   "cell_type": "code",
   "execution_count": 11,
   "id": "d564e329-93ac-4048-a931-c16f8c263eeb",
   "metadata": {},
   "outputs": [],
   "source": [
    "A.add(5)"
   ]
  },
  {
   "cell_type": "code",
   "execution_count": 12,
   "id": "40df4f37-c62b-4f7e-9434-ea4b9dae3f12",
   "metadata": {},
   "outputs": [
    {
     "name": "stdout",
     "output_type": "stream",
     "text": [
      "{1, 2, 3, 4, 5, 6}\n"
     ]
    }
   ],
   "source": [
    "print(A)"
   ]
  },
  {
   "cell_type": "code",
   "execution_count": 14,
   "id": "cc6c2036-f389-45f5-9097-38fb994c380f",
   "metadata": {},
   "outputs": [],
   "source": [
    "A.remove(6)"
   ]
  },
  {
   "cell_type": "code",
   "execution_count": 15,
   "id": "1279006a-6858-4b52-978c-3e3c9a180afd",
   "metadata": {},
   "outputs": [
    {
     "data": {
      "text/plain": [
       "{1, 2, 3, 4, 5}"
      ]
     },
     "execution_count": 15,
     "metadata": {},
     "output_type": "execute_result"
    }
   ],
   "source": [
    "A"
   ]
  },
  {
   "cell_type": "code",
   "execution_count": 30,
   "id": "ec5b96f6-1ed3-4827-b66c-d3ed5a922fe4",
   "metadata": {},
   "outputs": [],
   "source": [
    "A = {1, 2, 3, 4}\n",
    "B = {3, 4, 5, 6}"
   ]
  },
  {
   "cell_type": "code",
   "execution_count": 31,
   "id": "54892cb2-847f-4dd6-99f7-407ce90f7d50",
   "metadata": {},
   "outputs": [
    {
     "data": {
      "text/plain": [
       "{1, 2, 3, 4, 5, 6}"
      ]
     },
     "execution_count": 31,
     "metadata": {},
     "output_type": "execute_result"
    }
   ],
   "source": [
    "A | B        # {1, 2, 3, 4, 5, 6}\n",
    "A.union(B)   # {1, 2, 3, 4, 5, 6}\n"
   ]
  },
  {
   "cell_type": "code",
   "execution_count": 32,
   "id": "a5249acc-6c76-4ad5-9fd5-2caccfc0f14e",
   "metadata": {},
   "outputs": [
    {
     "data": {
      "text/plain": [
       "{3, 4}"
      ]
     },
     "execution_count": 32,
     "metadata": {},
     "output_type": "execute_result"
    }
   ],
   "source": [
    "A & B          # {3, 4}\n",
    "A.intersection(B)"
   ]
  },
  {
   "cell_type": "code",
   "execution_count": 33,
   "id": "f9b1aee0-f4c7-4984-8f86-8e128c289faf",
   "metadata": {},
   "outputs": [
    {
     "data": {
      "text/plain": [
       "{1, 2}"
      ]
     },
     "execution_count": 33,
     "metadata": {},
     "output_type": "execute_result"
    }
   ],
   "source": [
    "A - B            # {1, 2}\n",
    "A.difference(B)"
   ]
  },
  {
   "cell_type": "code",
   "execution_count": 34,
   "id": "476ad45b-8bdf-42fe-a104-c2401356d5c2",
   "metadata": {},
   "outputs": [
    {
     "data": {
      "text/plain": [
       "{1, 2, 5, 6}"
      ]
     },
     "execution_count": 34,
     "metadata": {},
     "output_type": "execute_result"
    }
   ],
   "source": [
    "A ^ B              # {1, 2, 5, 6}\n",
    "A.symmetric_difference(B)"
   ]
  },
  {
   "cell_type": "code",
   "execution_count": 35,
   "id": "7dce6045-166a-49f5-af10-4d676600e0c3",
   "metadata": {},
   "outputs": [],
   "source": [
    "A.add(10)        # Add an element"
   ]
  },
  {
   "cell_type": "code",
   "execution_count": 36,
   "id": "eac09d26-1f8f-4ed1-9443-2dc0ca6f69bf",
   "metadata": {},
   "outputs": [],
   "source": [
    "A.remove(2)      # Remove 2 (error if not found)\n"
   ]
  },
  {
   "cell_type": "code",
   "execution_count": 37,
   "id": "4dc71749-72f9-474f-94e7-67067a3b82d3",
   "metadata": {},
   "outputs": [],
   "source": [
    "A.discard(2)     # Remove 2 (no error if not found)"
   ]
  },
  {
   "cell_type": "code",
   "execution_count": 38,
   "id": "db0a39f2-368c-4581-84a1-31d7dbc3e982",
   "metadata": {},
   "outputs": [],
   "source": [
    "A.clear()        # Remove all elements"
   ]
  },
  {
   "cell_type": "code",
   "execution_count": 39,
   "id": "73d10004-4980-45b7-9a66-b200493041d0",
   "metadata": {},
   "outputs": [
    {
     "data": {
      "text/plain": [
       "0"
      ]
     },
     "execution_count": 39,
     "metadata": {},
     "output_type": "execute_result"
    }
   ],
   "source": [
    "len(A)           # Number of elements"
   ]
  },
  {
   "cell_type": "code",
   "execution_count": null,
   "id": "b022e4bb-a2e5-4ac1-8e56-870ea5758b8f",
   "metadata": {},
   "outputs": [],
   "source": []
  },
  {
   "cell_type": "code",
   "execution_count": null,
   "id": "40423942-1995-464d-a98a-36d18d53f85d",
   "metadata": {},
   "outputs": [],
   "source": []
  }
 ],
 "metadata": {
  "kernelspec": {
   "display_name": "Python 3 (ipykernel)",
   "language": "python",
   "name": "python3"
  },
  "language_info": {
   "codemirror_mode": {
    "name": "ipython",
    "version": 3
   },
   "file_extension": ".py",
   "mimetype": "text/x-python",
   "name": "python",
   "nbconvert_exporter": "python",
   "pygments_lexer": "ipython3",
   "version": "3.12.4"
  }
 },
 "nbformat": 4,
 "nbformat_minor": 5
}
